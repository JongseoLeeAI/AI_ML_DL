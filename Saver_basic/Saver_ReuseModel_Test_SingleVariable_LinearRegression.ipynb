{
 "cells": [
  {
   "cell_type": "markdown",
   "metadata": {},
   "source": [
    "# 학습된 모델의 W, b 를 가져와서 모델 실행"
   ]
  },
  {
   "cell_type": "code",
   "execution_count": null,
   "metadata": {},
   "outputs": [],
   "source": []
  },
  {
   "cell_type": "markdown",
   "metadata": {},
   "source": [
    "#### [학습에 필요한 모듈 선언]"
   ]
  },
  {
   "cell_type": "code",
   "execution_count": 1,
   "metadata": {},
   "outputs": [],
   "source": [
    "import tensorflow as tf\n",
    "import numpy as np\n",
    "%matplotlib inline\n",
    "from matplotlib import pyplot as plt\n",
    "\n",
    "import os\n",
    "from datetime import datetime"
   ]
  },
  {
   "cell_type": "markdown",
   "metadata": {},
   "source": [
    "#### [환경설정]"
   ]
  },
  {
   "cell_type": "code",
   "execution_count": 2,
   "metadata": {},
   "outputs": [],
   "source": [
    "# 훈련용 데이터 수 선언\n",
    "trainDataNumber = 100\n",
    "# 모델 최적화를 위한 학습률 선언\n",
    "learningRate = 0.01\n",
    "# 총 학습 횟수 선언\n",
    "totalStep = 1001"
   ]
  },
  {
   "cell_type": "markdown",
   "metadata": {},
   "source": [
    "#### [빌드단계] Step 1) 학습데이터 준비"
   ]
  },
  {
   "cell_type": "code",
   "execution_count": 3,
   "metadata": {},
   "outputs": [
    {
     "data": {
      "image/png": "[encoded data removed]",
      "text/plain": [
       "<Figure size 432x288 with 1 Axes>"
      ]
     },
     "metadata": {},
     "output_type": "display_data"
    }
   ],
   "source": [
    "# 항상 같은 난수를 생성하기 위하여 시드설정\n",
    "np.random.seed(321)\n",
    "\n",
    "# 학습 데이터 리스트 선언\n",
    "xTrainData = list()\n",
    "yTrainData = list()\n",
    "\n",
    "# 학습 데이터 생성\n",
    "xTrainData = np.random.normal(0.0, 1.0, size=trainDataNumber)\n",
    "\n",
    "for x in xTrainData:\n",
    "    # y 데이터 생성\n",
    "    y = 10 * x + 3 + np.random.normal(0.0, 3)\n",
    "    yTrainData.append(y)\n",
    "\n",
    "# 학습 데이터 확인\n",
    "plt.plot(xTrainData, yTrainData, 'bo')\n",
    "plt.title(\"Train data\")\n",
    "plt.show()"
   ]
  },
  {
   "cell_type": "markdown",
   "metadata": {},
   "source": [
    "#### [빌드단계] Step 2) 모델생성을 위한 변수 초기화"
   ]
  },
  {
   "cell_type": "code",
   "execution_count": 4,
   "metadata": {},
   "outputs": [],
   "source": [
    "# Weight 변수 선언\n",
    "W = tf.Variable(tf.random_uniform([1]))\n",
    "# Bias 변수 선언\n",
    "b = tf.Variable(tf.random_uniform([1]))\n",
    "\n",
    "# 학습데이터 xTrainData가 들어갈 플레이스 홀더 선언\n",
    "X = tf.placeholder(tf.float32)\n",
    "# 학습데이터 yTrainData가 들어갈 플레이스 홀더 선언\n",
    "Y = tf.placeholder(tf.float32)"
   ]
  },
  {
   "cell_type": "markdown",
   "metadata": {},
   "source": [
    "#### [빌드단계] Step 3) 학습 모델 그래프 구성"
   ]
  },
  {
   "cell_type": "code",
   "execution_count": 5,
   "metadata": {},
   "outputs": [],
   "source": [
    "# 3-1) 학습데이터를 대표 하는 가설 그래프 선언\n",
    "#방법1 : 일반 연산기호를 이용하여 가설 수식 작성Ehd adsfdd\n",
    "hypothesis = W * X + b\n",
    "#방법2 :  tensorflow 함수를 이용하여 가설 수식 작성\n",
    "#hypothesis = tf.add(tf.multiply(W,X),b)\n",
    "\n",
    "# 3-2) 비용함수(오차함수,손실함수) 선언\n",
    "costFunction = tf.reduce_mean(tf.square(hypothesis - Y))\n",
    "\n",
    "# 3-3) 비용함수의 값이 최소가 되도록 하는 최적화함수 선언\n",
    "optimizer = tf.train.GradientDescentOptimizer(learning_rate=learningRate)\n",
    "train = optimizer.minimize(costFunction)"
   ]
  },
  {
   "cell_type": "markdown",
   "metadata": {},
   "source": [
    "# [Tensor 변수 저장]"
   ]
  },
  {
   "cell_type": "code",
   "execution_count": 6,
   "metadata": {},
   "outputs": [],
   "source": [
    "# 모델 저장을 위한 saver 객체 호출\n",
    "# variable 을 선언하기 전에 사용하게 되면 에러 발생함\n",
    "# Session 실행전에 선언 해주도록 함\n",
    "saver = tf.train.Saver()"
   ]
  },
  {
   "cell_type": "markdown",
   "metadata": {},
   "source": [
    "#### [실행단계] 학습 모델 그래프를 실행"
   ]
  },
  {
   "cell_type": "code",
   "execution_count": 7,
   "metadata": {},
   "outputs": [],
   "source": [
    "# 실행을 위한 세션 선언\n",
    "sess = tf.Session()"
   ]
  },
  {
   "cell_type": "markdown",
   "metadata": {},
   "source": [
    "# [저장된 모델의 유무 확인후 변수 초기화]\n",
    "- LoadingSavedModel : **True**  => 저장된 모델의 변수 값을 가져와서 학습을 진행\n",
    "- LoadingSavedModel : **False** => 저장된 모델을 사용하지 않고 다시 변수를 초기화 하여 학습을 진행"
   ]
  },
  {
   "cell_type": "code",
   "execution_count": 8,
   "metadata": {},
   "outputs": [
    {
     "name": "stdout",
     "output_type": "stream",
     "text": [
      "INFO:tensorflow:Restoring parameters from ./model/model_20190702_15512.ckpt\n",
      "Loading model : ./model/model_20190702_15512.ckpt\n"
     ]
    }
   ],
   "source": [
    "LoadingSavedModel = True\n",
    "\n",
    "\n",
    "if LoadingSavedModel :    \n",
    "    ckpt = tf.train.get_checkpoint_state('./model')\n",
    "\n",
    "    if ckpt and tf.train.checkpoint_exists(ckpt.model_checkpoint_path):\n",
    "        # 저장된 모델이 있으면 마지막으로 저장된 모델 가져옴\n",
    "        saver.restore(sess, ckpt.model_checkpoint_path)\n",
    "        print(\"Loading model : \"+ckpt.model_checkpoint_path)\n",
    "    else:\n",
    "        # 최적화 과정을 통하여 구해질 변수 W, b 초기화\n",
    "        sess.run(tf.global_variables_initializer())\n",
    "        print(\"Init variables.\")\n",
    "else:\n",
    "    # 최적화 과정을 통하여 구해질 변수 W, b 초기화\n",
    "    sess.run(tf.global_variables_initializer())\n"
   ]
  },
  {
   "cell_type": "markdown",
   "metadata": {},
   "source": [
    "# [저장된 데이터를 이용하여 테스트 결과 확인]"
   ]
  },
  {
   "cell_type": "code",
   "execution_count": 14,
   "metadata": {},
   "outputs": [
    {
     "name": "stdout",
     "output_type": "stream",
     "text": [
      "[Load Model Variable]\n",
      "- Weight\n",
      "[9.960744]\n",
      "- Bias\n",
      "[3.1907847]\n",
      "--------------------------------------------------------------------------------\n",
      "[Test Result]\n",
      "x value is [2.5], y value is [28.092644]\n",
      "--------------------------------------------------------------------------------\n"
     ]
    }
   ],
   "source": [
    "# 저장된 모델에서 Variable 값을 가져옴\n",
    "print(\"[Load Model Variable]\")\n",
    "print(\"- Weight\")\n",
    "print(sess.run(W))\n",
    "print(\"- Bias\")\n",
    "print(sess.run(b))\n",
    "print(\"--------------------------------------------------------------------------------\")\n",
    "print(\"[Test Result]\")\n",
    "# 테스트를 위하여 x값 선언\n",
    "testXValue = [2.5]\n",
    "# 최적화된 모델에 x에 대한 y 값 계산\n",
    "resultYValue = sess.run(hypothesis, feed_dict={X:testXValue})\n",
    "# 테스트 결과값 출력\n",
    "print(\"x value is {}, y value is {}\".format(testXValue, resultYValue))\n",
    "print(\"--------------------------------------------------------------------------------\")\n"
   ]
  },
  {
   "cell_type": "code",
   "execution_count": 15,
   "metadata": {},
   "outputs": [],
   "source": [
    "#세션종료\n",
    "sess.close()"
   ]
  }
 ],
 "metadata": {
  "kernelspec": {
   "display_name": "Python 3",
   "language": "python",
   "name": "python3"
  },
  "language_info": {
   "codemirror_mode": {
    "name": "ipython",
    "version": 3
   },
   "file_extension": ".py",
   "mimetype": "text/x-python",
   "name": "python",
   "nbconvert_exporter": "python",
   "pygments_lexer": "ipython3",
   "version": "3.6.8"
  }
 },
 "nbformat": 4,
 "nbformat_minor": 2
}
