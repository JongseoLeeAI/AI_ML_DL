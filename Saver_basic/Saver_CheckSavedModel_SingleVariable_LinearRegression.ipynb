{
 "cells": [
  {
   "cell_type": "markdown",
   "metadata": {},
   "source": [
    "# 저장된 모델의 변수 값 가져오기"
   ]
  },
  {
   "cell_type": "code",
   "execution_count": null,
   "metadata": {},
   "outputs": [],
   "source": []
  },
  {
   "cell_type": "markdown",
   "metadata": {},
   "source": [
    "#### [학습에 필요한 모듈 선언]"
   ]
  },
  {
   "cell_type": "code",
   "execution_count": 1,
   "metadata": {},
   "outputs": [],
   "source": [
    "import tensorflow as tf"
   ]
  },
  {
   "cell_type": "markdown",
   "metadata": {},
   "source": [
    "# [저장된 모델의 변수 불러오기]\n",
    "- 위에 학습한 모델의 커널을 종료하고 다시 시작하여 이부분 부터 코드 실행해야 정상적으로 출력이 가능함"
   ]
  },
  {
   "cell_type": "code",
   "execution_count": 2,
   "metadata": {},
   "outputs": [
    {
     "name": "stdout",
     "output_type": "stream",
     "text": [
      "Loading saved model file : ./model/model_20190702_15512.ckpt\n"
     ]
    }
   ],
   "source": [
    "# 저장된 모델 경로 지정\n",
    "modelFileName = \"model_\"+\"20190702_15512\"\n",
    "save_file = './model/'+modelFileName+'.ckpt'\n",
    "\n",
    "print(\"Loading saved model file : \"+save_file)"
   ]
  },
  {
   "cell_type": "code",
   "execution_count": 3,
   "metadata": {},
   "outputs": [
    {
     "data": {
      "text/plain": [
       "<function tensorflow.python.framework.ops.reset_default_graph()>"
      ]
     },
     "execution_count": 3,
     "metadata": {},
     "output_type": "execute_result"
    }
   ],
   "source": [
    "# 지금까지 저장된 변수의 값 리셋 하기\n",
    "tf.reset_default_graph"
   ]
  },
  {
   "cell_type": "code",
   "execution_count": 4,
   "metadata": {},
   "outputs": [],
   "source": [
    "# Weight 변수 선언\n",
    "W = tf.Variable(tf.random_uniform([1]))\n",
    "# Bias 변수 선언\n",
    "b = tf.Variable(tf.random_uniform([1]))"
   ]
  },
  {
   "cell_type": "code",
   "execution_count": 5,
   "metadata": {},
   "outputs": [],
   "source": [
    "# 모델을 불러오기 위하여 saver 객체 선언\n",
    "saver = tf.train.Saver()"
   ]
  },
  {
   "cell_type": "code",
   "execution_count": 6,
   "metadata": {},
   "outputs": [
    {
     "name": "stdout",
     "output_type": "stream",
     "text": [
      "INFO:tensorflow:Restoring parameters from ./model/model_20190702_15512.ckpt\n",
      "[Weight]\n",
      "[9.960744]\n",
      "[Bias]\n",
      "[3.1907847]\n"
     ]
    }
   ],
   "source": [
    "with tf.Session() as sess2:\n",
    "    #sess2.run(tf.global_variables_initializer())\n",
    "    # 저장된 모델 정보를 sess에 가져오기\n",
    "    saver.restore(sess2, save_file)\n",
    "    print(\"[Weight]\")\n",
    "    print(sess2.run(W))\n",
    "    print(\"[Bias]\")\n",
    "    print(sess2.run(b))"
   ]
  },
  {
   "cell_type": "code",
   "execution_count": null,
   "metadata": {},
   "outputs": [],
   "source": []
  }
 ],
 "metadata": {
  "kernelspec": {
   "display_name": "Python 3",
   "language": "python",
   "name": "python3"
  },
  "language_info": {
   "codemirror_mode": {
    "name": "ipython",
    "version": 3
   },
   "file_extension": ".py",
   "mimetype": "text/x-python",
   "name": "python",
   "nbconvert_exporter": "python",
   "pygments_lexer": "ipython3",
   "version": "3.6.8"
  }
 },
 "nbformat": 4,
 "nbformat_minor": 2
}
