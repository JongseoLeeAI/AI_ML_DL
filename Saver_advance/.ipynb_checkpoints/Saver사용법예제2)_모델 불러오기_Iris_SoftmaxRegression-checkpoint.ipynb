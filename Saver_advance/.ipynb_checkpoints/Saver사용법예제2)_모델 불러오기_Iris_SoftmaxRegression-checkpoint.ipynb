{
 "cells": [
  {
   "cell_type": "markdown",
   "metadata": {},
   "source": [
    "# Checkpoint 에 저장된 Variable 확인 방법"
   ]
  },
  {
   "cell_type": "code",
   "execution_count": 1,
   "metadata": {},
   "outputs": [
    {
     "name": "stdout",
     "output_type": "stream",
     "text": [
      "tensor_name:  Weight\n",
      "[[ 0.9051934   0.6069451  -1.5121312 ]\n",
      " [ 2.036335   -0.05406574 -1.982269  ]\n",
      " [-2.8306117  -0.10605469  2.9366426 ]\n",
      " [-1.3426015  -1.0283835   2.3709831 ]]\n",
      "tensor_name:  bias\n",
      "[ 0.43785098  0.6570569  -1.0949075 ]\n"
     ]
    }
   ],
   "source": [
    "from tensorflow.python.tools import inspect_checkpoint as chkp\n",
    "chkp.print_tensors_in_checkpoint_file('./model/model_20190703_154851.ckpt-10000', tensor_name='', all_tensors=True)"
   ]
  },
  {
   "cell_type": "code",
   "execution_count": 2,
   "metadata": {},
   "outputs": [
    {
     "name": "stdout",
     "output_type": "stream",
     "text": [
      "tensor_name:  Weight\n",
      "[[ 0.8698726   0.59103835 -1.4609058 ]\n",
      " [ 1.9658532  -0.0772764  -1.8885783 ]\n",
      " [-2.7355802  -0.09272358  2.8282866 ]\n",
      " [-1.2951736  -0.97110397  2.2662756 ]]\n",
      "tensor_name:  bias\n",
      "[ 0.4221452  0.6053049 -1.0274497]\n"
     ]
    }
   ],
   "source": [
    "chkp.print_tensors_in_checkpoint_file('./model/model_20190703_154851.ckpt-9000', tensor_name='', all_tensors=True)"
   ]
  },
  {
   "cell_type": "code",
   "execution_count": 3,
   "metadata": {},
   "outputs": [
    {
     "name": "stdout",
     "output_type": "stream",
     "text": [
      "tensor_name:  Weight\n",
      "[[ 0.8311586   0.57188696 -1.4030417 ]\n",
      " [ 1.8882452  -0.10163423 -1.7866116 ]\n",
      " [-2.631055   -0.07706007  2.7081027 ]\n",
      " [-1.2432513  -0.9086988   2.1519496 ]]\n",
      "tensor_name:  bias\n",
      "[ 0.40489718  0.55157894 -0.95647573]\n"
     ]
    }
   ],
   "source": [
    "chkp.print_tensors_in_checkpoint_file('./model/model_20190703_154851.ckpt-8000', tensor_name='', all_tensors=True)"
   ]
  },
  {
   "cell_type": "code",
   "execution_count": 4,
   "metadata": {},
   "outputs": [
    {
     "name": "stdout",
     "output_type": "stream",
     "text": [
      "tensor_name:  Weight\n",
      "[[ 0.7883151   0.5485012  -1.3368132 ]\n",
      " [ 1.80189    -0.12707624 -1.6748142 ]\n",
      " [-2.514901   -0.05841514  2.573308  ]\n",
      " [-1.185849   -0.84003097  2.0258796 ]]\n",
      "tensor_name:  bias\n",
      "[ 0.3857639   0.49553728 -0.88130087]\n"
     ]
    }
   ],
   "source": [
    "chkp.print_tensors_in_checkpoint_file('./model/model_20190703_154851.ckpt-7000', tensor_name='', all_tensors=True)"
   ]
  },
  {
   "cell_type": "code",
   "execution_count": 5,
   "metadata": {},
   "outputs": [
    {
     "name": "stdout",
     "output_type": "stream",
     "text": [
      "tensor_name:  Weight\n",
      "[[ 0.453658    0.2780371  -0.7316954 ]\n",
      " [ 1.1051062  -0.25005212 -0.8550553 ]\n",
      " [-1.582721    0.13271017  1.4500074 ]\n",
      " [-0.73568475 -0.30992246  1.0456067 ]]\n",
      "tensor_name:  bias\n",
      "[ 0.23379596  0.15576091 -0.38955677]\n"
     ]
    }
   ],
   "source": [
    "chkp.print_tensors_in_checkpoint_file('./model/model_20190703_154851.ckpt-2000', tensor_name='', all_tensors=True)"
   ]
  },
  {
   "cell_type": "code",
   "execution_count": 6,
   "metadata": {},
   "outputs": [
    {
     "name": "stdout",
     "output_type": "stream",
     "text": [
      "tensor_name:  Weight\n",
      "[[ 0.32881042  0.14310434 -0.47191474]\n",
      " [ 0.82735056 -0.24585205 -0.5814983 ]\n",
      " [-1.2066782   0.2042201   1.0024576 ]\n",
      " [-0.5589428  -0.12238699  0.6813302 ]]\n",
      "tensor_name:  bias\n",
      "[ 0.17442037  0.06590008 -0.24032065]\n"
     ]
    }
   ],
   "source": [
    "chkp.print_tensors_in_checkpoint_file('./model/model_20190703_154851.ckpt-1000', tensor_name='', all_tensors=True)"
   ]
  },
  {
   "cell_type": "code",
   "execution_count": 7,
   "metadata": {},
   "outputs": [
    {
     "name": "stdout",
     "output_type": "stream",
     "text": [
      "tensor_name:  Weight\n",
      "[[-0.00180318  0.00053016  0.00127302]\n",
      " [ 0.00178413 -0.00086349 -0.00092064]\n",
      " [-0.00712699  0.00205397  0.00507302]\n",
      " [-0.00301905  0.00062857  0.00239048]]\n",
      "tensor_name:  bias\n",
      "[ 1.9047617e-04 -1.1641532e-10 -1.9047625e-04]\n"
     ]
    }
   ],
   "source": [
    "chkp.print_tensors_in_checkpoint_file('./model/model_20190703_154851.ckpt-0', tensor_name='', all_tensors=True)"
   ]
  },
  {
   "cell_type": "code",
   "execution_count": null,
   "metadata": {},
   "outputs": [],
   "source": []
  },
  {
   "cell_type": "markdown",
   "metadata": {},
   "source": [
    "# Checkpoint 에 마지막 저장된 model 정보 보는 방법"
   ]
  },
  {
   "cell_type": "code",
   "execution_count": 8,
   "metadata": {},
   "outputs": [],
   "source": [
    "import tensorflow as tf"
   ]
  },
  {
   "cell_type": "code",
   "execution_count": 9,
   "metadata": {},
   "outputs": [
    {
     "name": "stdout",
     "output_type": "stream",
     "text": [
      "Loading saved model file : ./model/model_20190703_154851.ckpt-10000\n"
     ]
    }
   ],
   "source": [
    "# 저장된 모델 경로 지정\n",
    "modelFileName = \"model_20190703_154851.ckpt-10000\"\n",
    "save_file = './model/'+modelFileName\n",
    "\n",
    "print(\"Loading saved model file : \"+save_file)"
   ]
  },
  {
   "cell_type": "code",
   "execution_count": 10,
   "metadata": {},
   "outputs": [
    {
     "data": {
      "text/plain": [
       "<function tensorflow.python.framework.ops.reset_default_graph()>"
      ]
     },
     "execution_count": 10,
     "metadata": {},
     "output_type": "execute_result"
    }
   ],
   "source": [
    "# 지금까지 저장된 변수의 값 리셋 하기\n",
    "tf.reset_default_graph"
   ]
  },
  {
   "cell_type": "code",
   "execution_count": 11,
   "metadata": {},
   "outputs": [],
   "source": [
    "# Weight 변수 선언\n",
    "W = tf.Variable(tf.zeros([4, 3]), name='Weight')\n",
    "# Bias 변수 선언\n",
    "b = tf.Variable(tf.zeros([3]), name='bias')"
   ]
  },
  {
   "cell_type": "code",
   "execution_count": 12,
   "metadata": {},
   "outputs": [],
   "source": [
    "# 모델을 불러오기 위하여 saver 객체 선언\n",
    "saver = tf.train.Saver()"
   ]
  },
  {
   "cell_type": "code",
   "execution_count": 13,
   "metadata": {},
   "outputs": [
    {
     "name": "stdout",
     "output_type": "stream",
     "text": [
      "INFO:tensorflow:Restoring parameters from ./model/model_20190703_154851.ckpt-10000\n",
      "[Weight]\n",
      "[[ 0.9051934   0.6069451  -1.5121312 ]\n",
      " [ 2.036335   -0.05406574 -1.982269  ]\n",
      " [-2.8306117  -0.10605469  2.9366426 ]\n",
      " [-1.3426015  -1.0283835   2.3709831 ]]\n",
      "[Bias]\n",
      "[ 0.43785098  0.6570569  -1.0949075 ]\n"
     ]
    }
   ],
   "source": [
    "with tf.Session() as sess:\n",
    "    #sess.run(tf.global_variables_initializer())\n",
    "    # 저장된 모델 정보를 sess에 가져오기\n",
    "    saver.restore(sess, save_file)\n",
    "    print(\"[Weight]\")\n",
    "    print(sess.run(W))\n",
    "    print(\"[Bias]\")\n",
    "    print(sess.run(b))"
   ]
  },
  {
   "cell_type": "code",
   "execution_count": null,
   "metadata": {},
   "outputs": [],
   "source": []
  },
  {
   "cell_type": "markdown",
   "metadata": {},
   "source": [
    "# 모델 그래프를 불러와서 사용 가능한 operation 항목 확인"
   ]
  },
  {
   "cell_type": "code",
   "execution_count": 14,
   "metadata": {},
   "outputs": [
    {
     "data": {
      "text/plain": [
       "<function tensorflow.python.framework.ops.reset_default_graph()>"
      ]
     },
     "execution_count": 14,
     "metadata": {},
     "output_type": "execute_result"
    }
   ],
   "source": [
    "# 지금까지 저장된 변수의 값 리셋 하기\n",
    "tf.reset_default_graph"
   ]
  },
  {
   "cell_type": "code",
   "execution_count": 15,
   "metadata": {},
   "outputs": [
    {
     "name": "stdout",
     "output_type": "stream",
     "text": [
      "INFO:tensorflow:Restoring parameters from ./model/model_20190703_154851.ckpt-10000\n",
      "zeros\n",
      "Weight\n",
      "Weight/Assign\n",
      "Weight/read\n",
      "zeros_1\n",
      "bias\n",
      "bias/Assign\n",
      "bias/read\n",
      "save/Const\n",
      "save/SaveV2/tensor_names\n",
      "save/SaveV2/shape_and_slices\n",
      "save/SaveV2\n",
      "save/control_dependency\n",
      "save/RestoreV2/tensor_names\n",
      "save/RestoreV2/shape_and_slices\n",
      "save/RestoreV2\n",
      "save/Assign\n",
      "save/Assign_1\n",
      "save/restore_all\n",
      "X\n",
      "Y\n",
      "zeros_2\n",
      "Weight_1\n",
      "Weight/Assign_1\n",
      "Weight/read_1\n",
      "zeros_1_1\n",
      "bias_1\n",
      "bias/Assign_1\n",
      "bias/read_1\n",
      "save/Const_1\n",
      "save/SaveV2/tensor_names_1\n",
      "save/SaveV2/shape_and_slices_1\n",
      "save/SaveV2_1\n",
      "save/control_dependency_1\n",
      "save/RestoreV2/tensor_names_1\n",
      "save/RestoreV2/shape_and_slices_1\n",
      "save/RestoreV2_1\n",
      "save/Assign_2\n",
      "save/Assign_1_1\n",
      "save/restore_all_1\n",
      "MatMul\n",
      "add\n",
      "hypothesis\n",
      "Log\n",
      "mul\n",
      "Sum/reduction_indices\n",
      "Sum\n",
      "Neg\n",
      "Const\n",
      "costFunction\n",
      "gradients/Shape\n",
      "gradients/grad_ys_0\n",
      "gradients/Fill\n",
      "gradients/costFunction_grad/Reshape/shape\n",
      "gradients/costFunction_grad/Reshape\n",
      "gradients/costFunction_grad/Shape\n",
      "gradients/costFunction_grad/Tile\n",
      "gradients/costFunction_grad/Shape_1\n",
      "gradients/costFunction_grad/Shape_2\n",
      "gradients/costFunction_grad/Const\n",
      "gradients/costFunction_grad/Prod\n",
      "gradients/costFunction_grad/Const_1\n",
      "gradients/costFunction_grad/Prod_1\n",
      "gradients/costFunction_grad/Maximum/y\n",
      "gradients/costFunction_grad/Maximum\n",
      "gradients/costFunction_grad/floordiv\n",
      "gradients/costFunction_grad/Cast\n",
      "gradients/costFunction_grad/truediv\n",
      "gradients/Neg_grad/Neg\n",
      "gradients/Sum_grad/Shape\n",
      "gradients/Sum_grad/Size\n",
      "gradients/Sum_grad/add\n",
      "gradients/Sum_grad/mod\n",
      "gradients/Sum_grad/Shape_1\n",
      "gradients/Sum_grad/range/start\n",
      "gradients/Sum_grad/range/delta\n",
      "gradients/Sum_grad/range\n",
      "gradients/Sum_grad/Fill/value\n",
      "gradients/Sum_grad/Fill\n",
      "gradients/Sum_grad/DynamicStitch\n",
      "gradients/Sum_grad/Maximum/y\n",
      "gradients/Sum_grad/Maximum\n",
      "gradients/Sum_grad/floordiv\n",
      "gradients/Sum_grad/Reshape\n",
      "gradients/Sum_grad/Tile\n",
      "gradients/mul_grad/Shape\n",
      "gradients/mul_grad/Shape_1\n",
      "gradients/mul_grad/BroadcastGradientArgs\n",
      "gradients/mul_grad/Mul\n",
      "gradients/mul_grad/Sum\n",
      "gradients/mul_grad/Reshape\n",
      "gradients/mul_grad/Mul_1\n",
      "gradients/mul_grad/Sum_1\n",
      "gradients/mul_grad/Reshape_1\n",
      "gradients/mul_grad/tuple/group_deps\n",
      "gradients/mul_grad/tuple/control_dependency\n",
      "gradients/mul_grad/tuple/control_dependency_1\n",
      "gradients/Log_grad/Reciprocal\n",
      "gradients/Log_grad/mul\n",
      "gradients/hypothesis_grad/mul\n",
      "gradients/hypothesis_grad/Sum/reduction_indices\n",
      "gradients/hypothesis_grad/Sum\n",
      "gradients/hypothesis_grad/sub\n",
      "gradients/hypothesis_grad/mul_1\n",
      "gradients/add_grad/Shape\n",
      "gradients/add_grad/Shape_1\n",
      "gradients/add_grad/BroadcastGradientArgs\n",
      "gradients/add_grad/Sum\n",
      "gradients/add_grad/Reshape\n",
      "gradients/add_grad/Sum_1\n",
      "gradients/add_grad/Reshape_1\n",
      "gradients/add_grad/tuple/group_deps\n",
      "gradients/add_grad/tuple/control_dependency\n",
      "gradients/add_grad/tuple/control_dependency_1\n",
      "gradients/MatMul_grad/MatMul\n",
      "gradients/MatMul_grad/MatMul_1\n",
      "gradients/MatMul_grad/tuple/group_deps\n",
      "gradients/MatMul_grad/tuple/control_dependency\n",
      "gradients/MatMul_grad/tuple/control_dependency_1\n",
      "GradientDescent/learning_rate\n",
      "GradientDescent/update_Weight/ApplyGradientDescent\n",
      "GradientDescent/update_bias/ApplyGradientDescent\n",
      "GradientDescent\n",
      "init\n",
      "ArgMax/dimension\n",
      "ArgMax\n",
      "ArgMax_1/dimension\n",
      "ArgMax_1\n",
      "Equal\n",
      "Cast\n",
      "Const_1\n",
      "Mean\n"
     ]
    }
   ],
   "source": [
    "import tensorflow as tf\n",
    "\n",
    "\n",
    "sess=tf.Session()    \n",
    "#First let's load meta graph and restore weights\n",
    "saver = tf.train.import_meta_graph('./model/model_20190703_154851.ckpt-10000.meta')\n",
    "saver.restore(sess,tf.train.latest_checkpoint('./model/'))\n",
    "\n",
    "graph = tf.get_default_graph()\n",
    "\n",
    "\n",
    "for op in tf.get_default_graph().get_operations():\n",
    "    print(op.name)   "
   ]
  },
  {
   "cell_type": "code",
   "execution_count": null,
   "metadata": {},
   "outputs": [],
   "source": []
  },
  {
   "cell_type": "markdown",
   "metadata": {},
   "source": [
    "# 저장된 모델의 마지막 체크포인트 경로"
   ]
  },
  {
   "cell_type": "code",
   "execution_count": 16,
   "metadata": {},
   "outputs": [
    {
     "name": "stdout",
     "output_type": "stream",
     "text": [
      "./model/model_20190703_154851.ckpt-10000\n"
     ]
    }
   ],
   "source": [
    "ckpt_path = tf.train.latest_checkpoint('./model/')\n",
    "print(ckpt_path)"
   ]
  },
  {
   "cell_type": "code",
   "execution_count": null,
   "metadata": {},
   "outputs": [],
   "source": []
  }
 ],
 "metadata": {
  "kernelspec": {
   "display_name": "Python 3",
   "language": "python",
   "name": "python3"
  },
  "language_info": {
   "codemirror_mode": {
    "name": "ipython",
    "version": 3
   },
   "file_extension": ".py",
   "mimetype": "text/x-python",
   "name": "python",
   "nbconvert_exporter": "python",
   "pygments_lexer": "ipython3",
   "version": "3.6.8"
  }
 },
 "nbformat": 4,
 "nbformat_minor": 2
}
