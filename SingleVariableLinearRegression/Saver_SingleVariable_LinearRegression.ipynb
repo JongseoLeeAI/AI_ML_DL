{
 "cells": [
  {
   "cell_type": "markdown",
   "metadata": {},
   "source": [
    "#### [학습에 필요한 모듈 선언]"
   ]
  },
  {
   "cell_type": "code",
   "execution_count": 1,
   "metadata": {
    "collapsed": true
   },
   "outputs": [],
   "source": [
    "import tensorflow as tf\n",
    "import numpy as np\n",
    "%matplotlib inline\n",
    "from matplotlib import pyplot as plt"
   ]
  },
  {
   "cell_type": "markdown",
   "metadata": {},
   "source": [
    "# [모델 저장] - tf.train.Saver\n",
    "\n",
    "- API 1.x : tf.train.Saver\n",
    "- API 2.x : tf.saved_model"
   ]
  },
  {
   "cell_type": "code",
   "execution_count": 6,
   "metadata": {},
   "outputs": [],
   "source": [
    "# 모델을 저장하기 위한 경로 지정\n",
    "# .ckpt 확장자는 checkpoint의 약자임\n",
    "save_file = './model.ckpt'\n",
    "# 만약 폴더 안에 모델 파일을 저장한다면 폴더는 미리 생성하던지 아니면 코드로 생성하고 모델을 저장해야함"
   ]
  },
  {
   "cell_type": "markdown",
   "metadata": {},
   "source": [
    "#### [환경설정]"
   ]
  },
  {
   "cell_type": "code",
   "execution_count": null,
   "metadata": {
    "collapsed": true
   },
   "outputs": [],
   "source": [
    "# 훈련용 데이터 수 선언\n",
    "trainDataNumber = 100\n",
    "# 모델 최적화를 위한 학습률 선언\n",
    "learningRate = 0.01\n",
    "# 총 학습 횟수 선언\n",
    "totalStep = 1001"
   ]
  },
  {
   "cell_type": "markdown",
   "metadata": {},
   "source": [
    "#### [빌드단계] Step 1) 학습데이터 준비"
   ]
  },
  {
   "cell_type": "code",
   "execution_count": null,
   "metadata": {},
   "outputs": [],
   "source": [
    "# 항상 같은 난수를 생성하기 위하여 시드설정\n",
    "np.random.seed(321)\n",
    "\n",
    "# 학습 데이터 리스트 선언\n",
    "xTrainData = list()\n",
    "yTrainData = list()\n",
    "\n",
    "# 학습 데이터 생성\n",
    "xTrainData = np.random.normal(0.0, 1.0, size=trainDataNumber)\n",
    "\n",
    "for x in xTrainData:\n",
    "    # y 데이터 생성\n",
    "    y = 10 * x + 3 + np.random.normal(0.0, 3)\n",
    "    yTrainData.append(y)\n",
    "\n",
    "# 학습 데이터 확인\n",
    "plt.plot(xTrainData, yTrainData, 'bo')\n",
    "plt.title(\"Train data\")\n",
    "plt.show()"
   ]
  },
  {
   "cell_type": "markdown",
   "metadata": {},
   "source": [
    "#### [빌드단계] Step 2) 모델생성을 위한 변수 초기화"
   ]
  },
  {
   "cell_type": "code",
   "execution_count": null,
   "metadata": {
    "collapsed": true
   },
   "outputs": [],
   "source": [
    "# Weight 변수 선언\n",
    "W = tf.Variable(tf.random_uniform([1]))\n",
    "# Bias 변수 선언\n",
    "b = tf.Variable(tf.random_uniform([1]))\n",
    "\n",
    "# 학습데이터 xTrainData가 들어갈 플레이스 홀더 선언\n",
    "X = tf.placeholder(tf.float32)\n",
    "# 학습데이터 yTrainData가 들어갈 플레이스 홀더 선언\n",
    "Y = tf.placeholder(tf.float32)"
   ]
  },
  {
   "cell_type": "markdown",
   "metadata": {},
   "source": [
    "#### [빌드단계] Step 3) 학습 모델 그래프 구성"
   ]
  },
  {
   "cell_type": "code",
   "execution_count": null,
   "metadata": {
    "collapsed": true
   },
   "outputs": [],
   "source": [
    "# 3-1) 학습데이터를 대표 하는 가설 그래프 선언\n",
    "#방법1 : 일반 연산기호를 이용하여 가설 수식 작성Ehd adsfdd\n",
    "hypothesis = W * X + b\n",
    "#방법2 :  tensorflow 함수를 이용하여 가설 수식 작성\n",
    "#hypothesis = tf.add(tf.multiply(W,X),b)\n",
    "\n",
    "# 3-2) 비용함수(오차함수,손실함수) 선언\n",
    "costFunction = tf.reduce_mean(tf.square(hypothesis - Y))\n",
    "\n",
    "# 3-3) 비용함수의 값이 최소가 되도록 하는 최적화함수 선언\n",
    "optimizer = tf.train.GradientDescentOptimizer(learning_rate=learningRate)\n",
    "train = optimizer.minimize(costFunction)"
   ]
  },
  {
   "cell_type": "markdown",
   "metadata": {},
   "source": [
    "# [Tensor 변수 저장]"
   ]
  },
  {
   "cell_type": "code",
   "execution_count": null,
   "metadata": {
    "collapsed": true
   },
   "outputs": [],
   "source": [
    "# 모델 저장을 위한 saver 객체 호출\n",
    "# variable 을 선언하기 전에 사용하게 되면 에러 발생함\n",
    "# Session 실행전에 선언 해주도록 함\n",
    "saver = tf.train.Saver()"
   ]
  },
  {
   "cell_type": "markdown",
   "metadata": {},
   "source": [
    "#### [실행단계] 학습 모델 그래프를 실행"
   ]
  },
  {
   "cell_type": "code",
   "execution_count": null,
   "metadata": {},
   "outputs": [],
   "source": [
    "# 실행을 위한 세션 선언\n",
    "sess = tf.Session()\n",
    "# 최적화 과정을 통하여 구해질 변수 W, b 초기화\n",
    "sess.run(tf.global_variables_initializer())\n",
    "\n",
    "# 비용함수 그래프를 그리기 위한 변수 선언\n",
    "WeightValueList = list()\n",
    "costFunctionValueList = list()\n",
    "\n",
    "print(\"--------------------------------------------------------------------------------\")\n",
    "print(\"Train(Optimization) Start \")\n",
    "# totalStep 횟수 만큼 학습\n",
    "for step in range(totalStep):\n",
    "    # X, Y에 학습 데이터 입력하여 비용함수, W, b, train을 실행\n",
    "    cost_val, W_val, b_val, _ = sess.run([costFunction, W, b, train],\n",
    "                                         feed_dict={X:xTrainData, Y:yTrainData})\n",
    "    # 학습 결과값을 저장\n",
    "    WeightValueList.append(W_val)\n",
    "    costFunctionValueList.append(cost_val)\n",
    "    # 학습 50회 마다 중간 결과 출력\n",
    "    if step % 50 == 0:\n",
    "        print(\"Step : {}, cost : {}, W : {}, b : {}\".format(step, cost_val, W_val, b_val))\n",
    "        # 학습 100회 마다 중간 결과 Fitting Line 추가\n",
    "        if step % 100 == 0:\n",
    "            plt.plot(xTrainData, W_val * xTrainData + b_val,\n",
    "                     label='Step : {}'.format(step), linewidth=0.5)\n",
    "print(\"Train Finished\")\n",
    "print(\"--------------------------------------------------------------------------------\")\n",
    "print(\"[Train Result]\")\n",
    "# 최적화가 끝난 학습 모델의 비용함수 값\n",
    "cost_train = sess.run(costFunction, feed_dict={X:xTrainData, Y:yTrainData})\n",
    "# 최적화가 끝난 W, b 변수의 값\n",
    "w_train = sess.run(W)\n",
    "b_train = sess.run(b)\n",
    "print(\"Train cost : {}, W : {}, b : {}\".format(cost_train, w_train, b_train))\n",
    "print(\"--------------------------------------------------------------------------------\")\n",
    "print(\"[Test Result]\")\n",
    "# 테스트를 위하여 x값 선언\n",
    "testXValue = [2.5]\n",
    "# 최적화된 모델에 x에 대한 y 값 계산\n",
    "resultYValue = sess.run(hypothesis, feed_dict={X:testXValue})\n",
    "# 테스트 결과값 출력\n",
    "print(\"x value is {}, y value is {}\".format(testXValue, resultYValue))\n",
    "print(\"--------------------------------------------------------------------------------\")\n",
    "\n",
    "# matplotlib 를 이용하여 결과를 시각화\n",
    "# 결과 확인 그래프\n",
    "plt.plot(xTrainData, sess.run(W) * xTrainData + sess.run(b), 'r', label='Fitting Line', linewidth=2)\n",
    "plt.plot(xTrainData, yTrainData, 'bo', label='Train data')\n",
    "plt.legend()\n",
    "plt.title(\"Train Result\")\n",
    "plt.show()\n",
    "\n",
    "# 비용함수 최적화 그래프\n",
    "plt.plot(WeightValueList,costFunctionValueList)\n",
    "plt.title(\"costFunction curve\")\n",
    "plt.xlabel(\"Weight\")\n",
    "plt.ylabel(\"costFunction value\")\n",
    "plt.show()\n",
    "\n"
   ]
  },
  {
   "cell_type": "markdown",
   "metadata": {},
   "source": [
    "# [모델 저장]\n",
    "\n",
    "- tf.train.Saver.save()\n",
    "<pre><code>\n",
    "save(\n",
    "    sess,\n",
    "    save_path,\n",
    "    global_step=None,\n",
    "    latest_filename=None,\n",
    "    meta_graph_suffix='meta',\n",
    "    write_meta_graph=True,\n",
    "    write_state=True,\n",
    "    strip_default_attrs=False,\n",
    "    save_debug_info=False\n",
    ")\n",
    "</code></pre>"
   ]
  },
  {
   "cell_type": "code",
   "execution_count": null,
   "metadata": {},
   "outputs": [],
   "source": [
    "saver.save(sess, save_file)"
   ]
  },
  {
   "cell_type": "markdown",
   "metadata": {},
   "source": [
    "![모델이저장된폴더](img1.PNG)"
   ]
  },
  {
   "cell_type": "code",
   "execution_count": null,
   "metadata": {
    "collapsed": true
   },
   "outputs": [],
   "source": [
    "#세션종료\n",
    "sess.close()"
   ]
  },
  {
   "cell_type": "code",
   "execution_count": null,
   "metadata": {
    "collapsed": true
   },
   "outputs": [],
   "source": []
  },
  {
   "cell_type": "code",
   "execution_count": null,
   "metadata": {
    "collapsed": true
   },
   "outputs": [],
   "source": []
  },
  {
   "cell_type": "code",
   "execution_count": null,
   "metadata": {
    "collapsed": true
   },
   "outputs": [],
   "source": []
  },
  {
   "cell_type": "code",
   "execution_count": null,
   "metadata": {
    "collapsed": true
   },
   "outputs": [],
   "source": []
  },
  {
   "cell_type": "markdown",
   "metadata": {},
   "source": [
    "# [저장된 모델의 변수 불러오기]\n",
    "- 위에 학습한 모델의 커널을 종료하고 다시 시작하여 이부분 부터 코드 실행해야 정상적으로 출력이 가능함"
   ]
  },
  {
   "cell_type": "code",
   "execution_count": 2,
   "metadata": {},
   "outputs": [
    {
     "data": {
      "text/plain": [
       "<function tensorflow.python.framework.ops.reset_default_graph>"
      ]
     },
     "execution_count": 2,
     "metadata": {},
     "output_type": "execute_result"
    }
   ],
   "source": [
    "# 저장된 모델 경로 지정\n",
    "save_file = './model.ckpt'\n",
    "# 지금까지 저장된 변수의 값 리셋 하기\n",
    "tf.reset_default_graph"
   ]
  },
  {
   "cell_type": "code",
   "execution_count": 3,
   "metadata": {
    "collapsed": true
   },
   "outputs": [],
   "source": [
    "# Weight 변수 선언\n",
    "W = tf.Variable(tf.random_uniform([1]))\n",
    "# Bias 변수 선언\n",
    "b = tf.Variable(tf.random_uniform([1]))"
   ]
  },
  {
   "cell_type": "code",
   "execution_count": 4,
   "metadata": {
    "collapsed": true
   },
   "outputs": [],
   "source": [
    "# 모델을 불러오기 위하여 saver 객체 선언\n",
    "saver = tf.train.Saver()"
   ]
  },
  {
   "cell_type": "code",
   "execution_count": 5,
   "metadata": {},
   "outputs": [
    {
     "name": "stdout",
     "output_type": "stream",
     "text": [
      "INFO:tensorflow:Restoring parameters from ./model.ckpt\n",
      "[Weight]\n",
      "[9.960744]\n",
      "[Bias]\n",
      "[3.1907847]\n"
     ]
    }
   ],
   "source": [
    "with tf.Session() as sess2:\n",
    "    #sess2.run(tf.global_variables_initializer())\n",
    "    # 저장된 모델 정보를 sess에 가져오기\n",
    "    saver.restore(sess2, save_file)\n",
    "    print(\"[Weight]\")\n",
    "    print(sess2.run(W))\n",
    "    print(\"[Bias]\")\n",
    "    print(sess2.run(b))"
   ]
  },
  {
   "cell_type": "code",
   "execution_count": null,
   "metadata": {
    "collapsed": true
   },
   "outputs": [],
   "source": []
  }
 ],
 "metadata": {
  "kernelspec": {
   "display_name": "Python 3",
   "language": "python",
   "name": "python3"
  },
  "language_info": {
   "codemirror_mode": {
    "name": "ipython",
    "version": 3
   },
   "file_extension": ".py",
   "mimetype": "text/x-python",
   "name": "python",
   "nbconvert_exporter": "python",
   "pygments_lexer": "ipython3",
   "version": "3.6.2"
  }
 },
 "nbformat": 4,
 "nbformat_minor": 2
}
