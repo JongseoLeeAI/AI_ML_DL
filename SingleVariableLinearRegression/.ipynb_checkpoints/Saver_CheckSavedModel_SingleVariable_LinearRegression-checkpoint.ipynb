{
 "cells": [
  {
   "cell_type": "markdown",
   "metadata": {},
   "source": [
    "#### [학습에 필요한 모듈 선언]"
   ]
  },
  {
   "cell_type": "code",
   "execution_count": 1,
   "metadata": {},
   "outputs": [],
   "source": [
    "import tensorflow as tf\n",
    "import numpy as np\n",
    "%matplotlib inline\n",
    "from matplotlib import pyplot as plt\n",
    "\n",
    "import os\n",
    "from datetime import datetime"
   ]
  },
  {
   "cell_type": "markdown",
   "metadata": {},
   "source": [
    "#### [환경설정]"
   ]
  },
  {
   "cell_type": "code",
   "execution_count": 2,
   "metadata": {},
   "outputs": [],
   "source": [
    "# 훈련용 데이터 수 선언\n",
    "trainDataNumber = 100\n",
    "# 모델 최적화를 위한 학습률 선언\n",
    "learningRate = 0.01\n",
    "# 총 학습 횟수 선언\n",
    "totalStep = 1001"
   ]
  },
  {
   "cell_type": "markdown",
   "metadata": {},
   "source": [
    "#### [빌드단계] Step 1) 학습데이터 준비"
   ]
  },
  {
   "cell_type": "code",
   "execution_count": 3,
   "metadata": {},
   "outputs": [
    {
     "data": {
      "image/png": "[encoded data removed]",
      "text/plain": [
       "<Figure size 432x288 with 1 Axes>"
      ]
     },
     "metadata": {},
     "output_type": "display_data"
    }
   ],
   "source": [
    "# 항상 같은 난수를 생성하기 위하여 시드설정\n",
    "np.random.seed(321)\n",
    "\n",
    "# 학습 데이터 리스트 선언\n",
    "xTrainData = list()\n",
    "yTrainData = list()\n",
    "\n",
    "# 학습 데이터 생성\n",
    "xTrainData = np.random.normal(0.0, 1.0, size=trainDataNumber)\n",
    "\n",
    "for x in xTrainData:\n",
    "    # y 데이터 생성\n",
    "    y = 10 * x + 3 + np.random.normal(0.0, 3)\n",
    "    yTrainData.append(y)\n",
    "\n",
    "# 학습 데이터 확인\n",
    "plt.plot(xTrainData, yTrainData, 'bo')\n",
    "plt.title(\"Train data\")\n",
    "plt.show()"
   ]
  },
  {
   "cell_type": "markdown",
   "metadata": {},
   "source": [
    "#### [빌드단계] Step 2) 모델생성을 위한 변수 초기화"
   ]
  },
  {
   "cell_type": "code",
   "execution_count": 4,
   "metadata": {},
   "outputs": [],
   "source": [
    "# Weight 변수 선언\n",
    "W = tf.Variable(tf.random_uniform([1]))\n",
    "# Bias 변수 선언\n",
    "b = tf.Variable(tf.random_uniform([1]))\n",
    "\n",
    "# 학습데이터 xTrainData가 들어갈 플레이스 홀더 선언\n",
    "X = tf.placeholder(tf.float32)\n",
    "# 학습데이터 yTrainData가 들어갈 플레이스 홀더 선언\n",
    "Y = tf.placeholder(tf.float32)"
   ]
  },
  {
   "cell_type": "markdown",
   "metadata": {},
   "source": [
    "#### [빌드단계] Step 3) 학습 모델 그래프 구성"
   ]
  },
  {
   "cell_type": "code",
   "execution_count": 5,
   "metadata": {},
   "outputs": [],
   "source": [
    "# 3-1) 학습데이터를 대표 하는 가설 그래프 선언\n",
    "#방법1 : 일반 연산기호를 이용하여 가설 수식 작성Ehd adsfdd\n",
    "hypothesis = W * X + b\n",
    "#방법2 :  tensorflow 함수를 이용하여 가설 수식 작성\n",
    "#hypothesis = tf.add(tf.multiply(W,X),b)\n",
    "\n",
    "# 3-2) 비용함수(오차함수,손실함수) 선언\n",
    "costFunction = tf.reduce_mean(tf.square(hypothesis - Y))\n",
    "\n",
    "# 3-3) 비용함수의 값이 최소가 되도록 하는 최적화함수 선언\n",
    "optimizer = tf.train.GradientDescentOptimizer(learning_rate=learningRate)\n",
    "train = optimizer.minimize(costFunction)"
   ]
  },
  {
   "cell_type": "markdown",
   "metadata": {},
   "source": [
    "# [Tensor 변수 저장]"
   ]
  },
  {
   "cell_type": "code",
   "execution_count": 6,
   "metadata": {},
   "outputs": [],
   "source": [
    "# 모델 저장을 위한 saver 객체 호출\n",
    "# variable 을 선언하기 전에 사용하게 되면 에러 발생함\n",
    "# Session 실행전에 선언 해주도록 함\n",
    "saver = tf.train.Saver()"
   ]
  },
  {
   "cell_type": "markdown",
   "metadata": {},
   "source": [
    "#### [실행단계] 학습 모델 그래프를 실행"
   ]
  },
  {
   "cell_type": "code",
   "execution_count": 7,
   "metadata": {},
   "outputs": [],
   "source": [
    "# 실행을 위한 세션 선언\n",
    "sess = tf.Session()"
   ]
  },
  {
   "cell_type": "markdown",
   "metadata": {},
   "source": [
    "# [저장된 모델의 유무 확인후 변수 초기화]\n",
    "- LoadingSavedModel : **True**  => 저장된 모델의 변수 값을 가져와서 학습을 진행\n",
    "- LoadingSavedModel : **False** => 저장된 모델을 사용하지 않고 다시 변수를 초기화 하여 학습을 진행"
   ]
  },
  {
   "cell_type": "code",
   "execution_count": 9,
   "metadata": {},
   "outputs": [
    {
     "name": "stdout",
     "output_type": "stream",
     "text": [
      "INFO:tensorflow:Restoring parameters from ./model/model_20190702_154354.ckpt\n",
      "Loading model : ./model/model_20190702_154354.ckpt\n"
     ]
    }
   ],
   "source": [
    "LoadingSavedModel = True\n",
    "\n",
    "\n",
    "if LoadingSavedModel :    \n",
    "    ckpt = tf.train.get_checkpoint_state('./model')\n",
    "\n",
    "    if ckpt and tf.train.checkpoint_exists(ckpt.model_checkpoint_path):\n",
    "        # 저장된 모델이 있으면 마지막으로 저장된 모델 가져옴\n",
    "        saver.restore(sess, ckpt.model_checkpoint_path)\n",
    "        print(\"Loading model : \"+ckpt.model_checkpoint_path)\n",
    "    else:\n",
    "        # 최적화 과정을 통하여 구해질 변수 W, b 초기화\n",
    "        sess.run(tf.global_variables_initializer())\n",
    "        print(\"Init variables.\")\n",
    "else:\n",
    "    # 최적화 과정을 통하여 구해질 변수 W, b 초기화\n",
    "    sess.run(tf.global_variables_initializer())\n"
   ]
  },
  {
   "cell_type": "code",
   "execution_count": 10,
   "metadata": {},
   "outputs": [
    {
     "name": "stdout",
     "output_type": "stream",
     "text": [
      "--------------------------------------------------------------------------------\n",
      "Train(Optimization) Start \n",
      "Step : 0, cost : 93.63241577148438, W : [0.47755644], b : [0.8823324]\n",
      "Step : 50, cost : 23.052051544189453, W : [6.0051417], b : [2.2200449]\n",
      "Step : 100, cost : 10.760794639587402, W : [8.310696], b : [2.7830162]\n",
      "Step : 150, cost : 8.620288848876953, W : [9.272413], b : [3.0196576]\n",
      "Step : 200, cost : 8.247522354125977, W : [9.673597], b : [3.1190271]\n",
      "Step : 250, cost : 8.182605743408203, W : [9.84096], b : [3.160718]\n",
      "Step : 300, cost : 8.17130184173584, W : [9.91078], b : [3.1781962]\n",
      "Step : 350, cost : 8.169332504272461, W : [9.939913], b : [3.1855187]\n",
      "Step : 400, cost : 8.168990135192871, W : [9.95207], b : [3.188585]\n",
      "Step : 450, cost : 8.168930053710938, W : [9.95714], b : [3.1898685]\n",
      "Step : 500, cost : 8.16891860961914, W : [9.959256], b : [3.1904054]\n",
      "Step : 550, cost : 8.168917655944824, W : [9.960139], b : [3.19063]\n",
      "Step : 600, cost : 8.168917655944824, W : [9.960506], b : [3.190724]\n",
      "Step : 650, cost : 8.168917655944824, W : [9.960658], b : [3.1907628]\n",
      "Step : 700, cost : 8.168917655944824, W : [9.960721], b : [3.1907787]\n",
      "Step : 750, cost : 8.168917655944824, W : [9.960744], b : [3.1907847]\n",
      "Step : 800, cost : 8.168917655944824, W : [9.960744], b : [3.1907847]\n",
      "Step : 850, cost : 8.168917655944824, W : [9.960744], b : [3.1907847]\n",
      "Step : 900, cost : 8.168917655944824, W : [9.960744], b : [3.1907847]\n",
      "Step : 950, cost : 8.168917655944824, W : [9.960744], b : [3.1907847]\n",
      "Step : 1000, cost : 8.168917655944824, W : [9.960744], b : [3.1907847]\n",
      "Train Finished\n",
      "--------------------------------------------------------------------------------\n",
      "[Train Result]\n",
      "Train cost : 8.168917655944824, W : [9.960744], b : [3.1907847]\n",
      "--------------------------------------------------------------------------------\n",
      "[Test Result]\n",
      "x value is [2.5], y value is [28.092644]\n",
      "--------------------------------------------------------------------------------\n"
     ]
    },
    {
     "data": {
      "image/png": "[encoded data removed]",
      "text/plain": [
       "<Figure size 432x288 with 1 Axes>"
      ]
     },
     "metadata": {},
     "output_type": "display_data"
    },
    {
     "data": {
      "image/png": "[encoded data removed]",
      "text/plain": [
       "<Figure size 432x288 with 1 Axes>"
      ]
     },
     "metadata": {},
     "output_type": "display_data"
    }
   ],
   "source": [
    "# 비용함수 그래프를 그리기 위한 변수 선언\n",
    "WeightValueList = list()\n",
    "costFunctionValueList = list()\n",
    "\n",
    "print(\"--------------------------------------------------------------------------------\")\n",
    "print(\"Train(Optimization) Start \")\n",
    "# totalStep 횟수 만큼 학습\n",
    "for step in range(totalStep):\n",
    "    # X, Y에 학습 데이터 입력하여 비용함수, W, b, train을 실행\n",
    "    cost_val, W_val, b_val, _ = sess.run([costFunction, W, b, train],\n",
    "                                         feed_dict={X:xTrainData, Y:yTrainData})\n",
    "    # 학습 결과값을 저장\n",
    "    WeightValueList.append(W_val)\n",
    "    costFunctionValueList.append(cost_val)\n",
    "    # 학습 50회 마다 중간 결과 출력\n",
    "    if step % 50 == 0:\n",
    "        print(\"Step : {}, cost : {}, W : {}, b : {}\".format(step, cost_val, W_val, b_val))\n",
    "        # 학습 100회 마다 중간 결과 Fitting Line 추가\n",
    "        if step % 100 == 0:\n",
    "            plt.plot(xTrainData, W_val * xTrainData + b_val,\n",
    "                     label='Step : {}'.format(step), linewidth=0.5)\n",
    "print(\"Train Finished\")\n",
    "print(\"--------------------------------------------------------------------------------\")\n",
    "print(\"[Train Result]\")\n",
    "# 최적화가 끝난 학습 모델의 비용함수 값\n",
    "cost_train = sess.run(costFunction, feed_dict={X:xTrainData, Y:yTrainData})\n",
    "# 최적화가 끝난 W, b 변수의 값\n",
    "w_train = sess.run(W)\n",
    "b_train = sess.run(b)\n",
    "print(\"Train cost : {}, W : {}, b : {}\".format(cost_train, w_train, b_train))\n",
    "print(\"--------------------------------------------------------------------------------\")\n",
    "print(\"[Test Result]\")\n",
    "# 테스트를 위하여 x값 선언\n",
    "testXValue = [2.5]\n",
    "# 최적화된 모델에 x에 대한 y 값 계산\n",
    "resultYValue = sess.run(hypothesis, feed_dict={X:testXValue})\n",
    "# 테스트 결과값 출력\n",
    "print(\"x value is {}, y value is {}\".format(testXValue, resultYValue))\n",
    "print(\"--------------------------------------------------------------------------------\")\n",
    "\n",
    "# matplotlib 를 이용하여 결과를 시각화\n",
    "# 결과 확인 그래프\n",
    "plt.plot(xTrainData, sess.run(W) * xTrainData + sess.run(b), 'r', label='Fitting Line', linewidth=2)\n",
    "plt.plot(xTrainData, yTrainData, 'bo', label='Train data')\n",
    "plt.legend()\n",
    "plt.title(\"Train Result\")\n",
    "plt.show()\n",
    "\n",
    "# 비용함수 최적화 그래프\n",
    "plt.plot(WeightValueList,costFunctionValueList)\n",
    "plt.title(\"costFunction curve\")\n",
    "plt.xlabel(\"Weight\")\n",
    "plt.ylabel(\"costFunction value\")\n",
    "plt.show()\n",
    "\n"
   ]
  },
  {
   "cell_type": "markdown",
   "metadata": {},
   "source": [
    "# [모델 저장]\n",
    "\n",
    "- tf.train.Saver.save()\n",
    "<pre><code>\n",
    "save(\n",
    "    sess,\n",
    "    save_path,\n",
    "    global_step=None,\n",
    "    latest_filename=None,\n",
    "    meta_graph_suffix='meta',\n",
    "    write_meta_graph=True,\n",
    "    write_state=True,\n",
    "    strip_default_attrs=False,\n",
    "    save_debug_info=False\n",
    ")\n",
    "</code></pre>"
   ]
  },
  {
   "cell_type": "code",
   "execution_count": 12,
   "metadata": {},
   "outputs": [
    {
     "ename": "NameError",
     "evalue": "name 'save_file' is not defined",
     "output_type": "error",
     "traceback": [
      "\u001b[0;31m---------------------------------------------------------------------------\u001b[0m",
      "\u001b[0;31mNameError\u001b[0m                                 Traceback (most recent call last)",
      "\u001b[0;32m<ipython-input-12-f1111871a213>\u001b[0m in \u001b[0;36m<module>\u001b[0;34m()\u001b[0m\n\u001b[0;32m----> 1\u001b[0;31m \u001b[0msaver\u001b[0m\u001b[0;34m.\u001b[0m\u001b[0msave\u001b[0m\u001b[0;34m(\u001b[0m\u001b[0msess\u001b[0m\u001b[0;34m,\u001b[0m \u001b[0msave_file\u001b[0m\u001b[0;34m)\u001b[0m\u001b[0;34m\u001b[0m\u001b[0;34m\u001b[0m\u001b[0m\n\u001b[0m\u001b[1;32m      2\u001b[0m \u001b[0mprint\u001b[0m\u001b[0;34m(\u001b[0m\u001b[0;34m\"Saved File Path : \"\u001b[0m\u001b[0;34m+\u001b[0m\u001b[0msave_file\u001b[0m\u001b[0;34m)\u001b[0m\u001b[0;34m\u001b[0m\u001b[0;34m\u001b[0m\u001b[0m\n",
      "\u001b[0;31mNameError\u001b[0m: name 'save_file' is not defined"
     ]
    }
   ],
   "source": [
    "saver.save(sess, save_file)\n",
    "print(\"Saved File Path : \"+save_file)"
   ]
  },
  {
   "cell_type": "markdown",
   "metadata": {},
   "source": [
    "![모델이저장된폴더](img1.PNG)"
   ]
  },
  {
   "cell_type": "code",
   "execution_count": 13,
   "metadata": {},
   "outputs": [],
   "source": [
    "#세션종료\n",
    "sess.close()"
   ]
  },
  {
   "cell_type": "code",
   "execution_count": null,
   "metadata": {},
   "outputs": [],
   "source": []
  },
  {
   "cell_type": "code",
   "execution_count": null,
   "metadata": {},
   "outputs": [],
   "source": []
  },
  {
   "cell_type": "code",
   "execution_count": null,
   "metadata": {},
   "outputs": [],
   "source": []
  },
  {
   "cell_type": "code",
   "execution_count": null,
   "metadata": {},
   "outputs": [],
   "source": []
  },
  {
   "cell_type": "markdown",
   "metadata": {},
   "source": [
    "# [저장된 모델의 변수 불러오기]\n",
    "- 위에 학습한 모델의 커널을 종료하고 다시 시작하여 이부분 부터 코드 실행해야 정상적으로 출력이 가능함"
   ]
  },
  {
   "cell_type": "code",
   "execution_count": 14,
   "metadata": {},
   "outputs": [
    {
     "name": "stdout",
     "output_type": "stream",
     "text": [
      "Loading saved model file : ./model/model_20190702_154354.ckpt\n"
     ]
    }
   ],
   "source": [
    "# 저장된 모델 경로 지정\n",
    "modelFileName = \"model_\"+\"20190702_154354\"\n",
    "save_file = './model/'+modelFileName+'.ckpt'\n",
    "\n",
    "print(\"Loading saved model file : \"+save_file)"
   ]
  },
  {
   "cell_type": "code",
   "execution_count": 15,
   "metadata": {},
   "outputs": [
    {
     "data": {
      "text/plain": [
       "<function tensorflow.python.framework.ops.reset_default_graph()>"
      ]
     },
     "execution_count": 15,
     "metadata": {},
     "output_type": "execute_result"
    }
   ],
   "source": [
    "# 지금까지 저장된 변수의 값 리셋 하기\n",
    "tf.reset_default_graph"
   ]
  },
  {
   "cell_type": "code",
   "execution_count": 16,
   "metadata": {},
   "outputs": [],
   "source": [
    "# Weight 변수 선언\n",
    "W = tf.Variable(tf.random_uniform([1]))\n",
    "# Bias 변수 선언\n",
    "b = tf.Variable(tf.random_uniform([1]))"
   ]
  },
  {
   "cell_type": "code",
   "execution_count": 17,
   "metadata": {},
   "outputs": [],
   "source": [
    "# 모델을 불러오기 위하여 saver 객체 선언\n",
    "saver = tf.train.Saver()"
   ]
  },
  {
   "cell_type": "code",
   "execution_count": 18,
   "metadata": {},
   "outputs": [
    {
     "name": "stdout",
     "output_type": "stream",
     "text": [
      "INFO:tensorflow:Restoring parameters from ./model/model_20190702_154354.ckpt\n",
      "[Weight]\n",
      "[9.960744]\n",
      "[Bias]\n",
      "[3.1907847]\n"
     ]
    }
   ],
   "source": [
    "with tf.Session() as sess2:\n",
    "    #sess2.run(tf.global_variables_initializer())\n",
    "    # 저장된 모델 정보를 sess에 가져오기\n",
    "    saver.restore(sess2, save_file)\n",
    "    print(\"[Weight]\")\n",
    "    print(sess2.run(W))\n",
    "    print(\"[Bias]\")\n",
    "    print(sess2.run(b))"
   ]
  },
  {
   "cell_type": "code",
   "execution_count": null,
   "metadata": {},
   "outputs": [],
   "source": []
  }
 ],
 "metadata": {
  "kernelspec": {
   "display_name": "Python 3",
   "language": "python",
   "name": "python3"
  },
  "language_info": {
   "codemirror_mode": {
    "name": "ipython",
    "version": 3
   },
   "file_extension": ".py",
   "mimetype": "text/x-python",
   "name": "python",
   "nbconvert_exporter": "python",
   "pygments_lexer": "ipython3",
   "version": "3.6.8"
  }
 },
 "nbformat": 4,
 "nbformat_minor": 2
}
