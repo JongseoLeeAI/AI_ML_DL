{
 "cells": [
  {
   "cell_type": "markdown",
   "metadata": {},
   "source": [
    "#### [학습에 필요한 모듈 선언]"
   ]
  },
  {
   "cell_type": "code",
   "execution_count": null,
   "metadata": {},
   "outputs": [],
   "source": [
    "import tensorflow as tf\n",
    "import numpy as np\n",
    "%matplotlib inline\n",
    "from matplotlib import pyplot as plt\n",
    "\n",
    "import os\n",
    "from datetime import datetime"
   ]
  },
  {
   "cell_type": "markdown",
   "metadata": {},
   "source": [
    "#### [환경설정]"
   ]
  },
  {
   "cell_type": "code",
   "execution_count": null,
   "metadata": {},
   "outputs": [],
   "source": [
    "# 훈련용 데이터 수 선언\n",
    "trainDataNumber = 100\n",
    "# 모델 최적화를 위한 학습률 선언\n",
    "learningRate = 0.01\n",
    "# 총 학습 횟수 선언\n",
    "totalStep = 1001"
   ]
  },
  {
   "cell_type": "markdown",
   "metadata": {},
   "source": [
    "#### [빌드단계] Step 1) 학습데이터 준비"
   ]
  },
  {
   "cell_type": "code",
   "execution_count": null,
   "metadata": {},
   "outputs": [],
   "source": [
    "# 항상 같은 난수를 생성하기 위하여 시드설정\n",
    "np.random.seed(321)\n",
    "\n",
    "# 학습 데이터 리스트 선언\n",
    "xTrainData = list()\n",
    "yTrainData = list()\n",
    "\n",
    "# 학습 데이터 생성\n",
    "xTrainData = np.random.normal(0.0, 1.0, size=trainDataNumber)\n",
    "\n",
    "for x in xTrainData:\n",
    "    # y 데이터 생성\n",
    "    y = 10 * x + 3 + np.random.normal(0.0, 3)\n",
    "    yTrainData.append(y)\n",
    "\n",
    "# 학습 데이터 확인\n",
    "plt.plot(xTrainData, yTrainData, 'bo')\n",
    "plt.title(\"Train data\")\n",
    "plt.show()"
   ]
  },
  {
   "cell_type": "markdown",
   "metadata": {},
   "source": [
    "#### [빌드단계] Step 2) 모델생성을 위한 변수 초기화"
   ]
  },
  {
   "cell_type": "code",
   "execution_count": null,
   "metadata": {},
   "outputs": [],
   "source": [
    "# Weight 변수 선언\n",
    "W = tf.Variable(tf.random_uniform([1]))\n",
    "# Bias 변수 선언\n",
    "b = tf.Variable(tf.random_uniform([1]))\n",
    "\n",
    "# 학습데이터 xTrainData가 들어갈 플레이스 홀더 선언\n",
    "X = tf.placeholder(tf.float32)\n",
    "# 학습데이터 yTrainData가 들어갈 플레이스 홀더 선언\n",
    "Y = tf.placeholder(tf.float32)"
   ]
  },
  {
   "cell_type": "markdown",
   "metadata": {},
   "source": [
    "#### [빌드단계] Step 3) 학습 모델 그래프 구성"
   ]
  },
  {
   "cell_type": "code",
   "execution_count": null,
   "metadata": {},
   "outputs": [],
   "source": [
    "# 3-1) 학습데이터를 대표 하는 가설 그래프 선언\n",
    "#방법1 : 일반 연산기호를 이용하여 가설 수식 작성Ehd adsfdd\n",
    "hypothesis = W * X + b\n",
    "#방법2 :  tensorflow 함수를 이용하여 가설 수식 작성\n",
    "#hypothesis = tf.add(tf.multiply(W,X),b)\n",
    "\n",
    "# 3-2) 비용함수(오차함수,손실함수) 선언\n",
    "costFunction = tf.reduce_mean(tf.square(hypothesis - Y))\n",
    "\n",
    "# 3-3) 비용함수의 값이 최소가 되도록 하는 최적화함수 선언\n",
    "optimizer = tf.train.GradientDescentOptimizer(learning_rate=learningRate)\n",
    "train = optimizer.minimize(costFunction)"
   ]
  },
  {
   "cell_type": "markdown",
   "metadata": {},
   "source": [
    "# [Tensor 변수 저장]"
   ]
  },
  {
   "cell_type": "code",
   "execution_count": null,
   "metadata": {},
   "outputs": [],
   "source": [
    "# 모델 저장을 위한 saver 객체 호출\n",
    "# variable 을 선언하기 전에 사용하게 되면 에러 발생함\n",
    "# Session 실행전에 선언 해주도록 함\n",
    "saver = tf.train.Saver()"
   ]
  },
  {
   "cell_type": "markdown",
   "metadata": {},
   "source": [
    "#### [실행단계] 학습 모델 그래프를 실행"
   ]
  },
  {
   "cell_type": "code",
   "execution_count": null,
   "metadata": {},
   "outputs": [],
   "source": [
    "# 실행을 위한 세션 선언\n",
    "sess = tf.Session()"
   ]
  },
  {
   "cell_type": "markdown",
   "metadata": {},
   "source": [
    "# [저장된 모델의 유무 확인후 변수 초기화]\n",
    "- LoadingSavedModel : **True**  => 저장된 모델의 변수 값을 가져와서 학습을 진행\n",
    "- LoadingSavedModel : **False** => 저장된 모델을 사용하지 않고 다시 변수를 초기화 하여 학습을 진행"
   ]
  },
  {
   "cell_type": "code",
   "execution_count": null,
   "metadata": {},
   "outputs": [],
   "source": [
    "LoadingSavedModel = True\n",
    "\n",
    "\n",
    "if LoadingSavedModel :    \n",
    "    ckpt = tf.train.get_checkpoint_state('./model')\n",
    "\n",
    "    if ckpt and tf.train.checkpoint_exists(ckpt.model_checkpoint_path):\n",
    "        # 저장된 모델이 있으면 마지막으로 저장된 모델 가져옴\n",
    "        saver.restore(sess, ckpt.model_checkpoint_path)\n",
    "        print(\"Loading model : \"+ckpt.model_checkpoint_path)\n",
    "    else:\n",
    "        # 최적화 과정을 통하여 구해질 변수 W, b 초기화\n",
    "        sess.run(tf.global_variables_initializer())\n",
    "        print(\"Init variables.\")\n",
    "else:\n",
    "    # 최적화 과정을 통하여 구해질 변수 W, b 초기화\n",
    "    sess.run(tf.global_variables_initializer())\n"
   ]
  },
  {
   "cell_type": "code",
   "execution_count": null,
   "metadata": {},
   "outputs": [],
   "source": [
    "# 비용함수 그래프를 그리기 위한 변수 선언\n",
    "WeightValueList = list()\n",
    "costFunctionValueList = list()\n",
    "\n",
    "print(\"--------------------------------------------------------------------------------\")\n",
    "print(\"Train(Optimization) Start \")\n",
    "# totalStep 횟수 만큼 학습\n",
    "for step in range(totalStep):\n",
    "    # X, Y에 학습 데이터 입력하여 비용함수, W, b, train을 실행\n",
    "    cost_val, W_val, b_val, _ = sess.run([costFunction, W, b, train],\n",
    "                                         feed_dict={X:xTrainData, Y:yTrainData})\n",
    "    # 학습 결과값을 저장\n",
    "    WeightValueList.append(W_val)\n",
    "    costFunctionValueList.append(cost_val)\n",
    "    # 학습 50회 마다 중간 결과 출력\n",
    "    if step % 50 == 0:\n",
    "        print(\"Step : {}, cost : {}, W : {}, b : {}\".format(step, cost_val, W_val, b_val))\n",
    "        # 학습 100회 마다 중간 결과 Fitting Line 추가\n",
    "        if step % 100 == 0:\n",
    "            plt.plot(xTrainData, W_val * xTrainData + b_val,\n",
    "                     label='Step : {}'.format(step), linewidth=0.5)\n",
    "print(\"Train Finished\")\n",
    "print(\"--------------------------------------------------------------------------------\")\n",
    "print(\"[Train Result]\")\n",
    "# 최적화가 끝난 학습 모델의 비용함수 값\n",
    "cost_train = sess.run(costFunction, feed_dict={X:xTrainData, Y:yTrainData})\n",
    "# 최적화가 끝난 W, b 변수의 값\n",
    "w_train = sess.run(W)\n",
    "b_train = sess.run(b)\n",
    "print(\"Train cost : {}, W : {}, b : {}\".format(cost_train, w_train, b_train))\n",
    "print(\"--------------------------------------------------------------------------------\")\n",
    "print(\"[Test Result]\")\n",
    "# 테스트를 위하여 x값 선언\n",
    "testXValue = [2.5]\n",
    "# 최적화된 모델에 x에 대한 y 값 계산\n",
    "resultYValue = sess.run(hypothesis, feed_dict={X:testXValue})\n",
    "# 테스트 결과값 출력\n",
    "print(\"x value is {}, y value is {}\".format(testXValue, resultYValue))\n",
    "print(\"--------------------------------------------------------------------------------\")\n",
    "\n",
    "# matplotlib 를 이용하여 결과를 시각화\n",
    "# 결과 확인 그래프\n",
    "plt.plot(xTrainData, sess.run(W) * xTrainData + sess.run(b), 'r', label='Fitting Line', linewidth=2)\n",
    "plt.plot(xTrainData, yTrainData, 'bo', label='Train data')\n",
    "plt.legend()\n",
    "plt.title(\"Train Result\")\n",
    "plt.show()\n",
    "\n",
    "# 비용함수 최적화 그래프\n",
    "plt.plot(WeightValueList,costFunctionValueList)\n",
    "plt.title(\"costFunction curve\")\n",
    "plt.xlabel(\"Weight\")\n",
    "plt.ylabel(\"costFunction value\")\n",
    "plt.show()\n",
    "\n"
   ]
  },
  {
   "cell_type": "code",
   "execution_count": null,
   "metadata": {},
   "outputs": [],
   "source": [
    "#세션종료\n",
    "sess.close()"
   ]
  },
  {
   "cell_type": "code",
   "execution_count": null,
   "metadata": {},
   "outputs": [],
   "source": []
  }
 ],
 "metadata": {
  "kernelspec": {
   "display_name": "Python 3",
   "language": "python",
   "name": "python3"
  },
  "language_info": {
   "codemirror_mode": {
    "name": "ipython",
    "version": 3
   },
   "file_extension": ".py",
   "mimetype": "text/x-python",
   "name": "python",
   "nbconvert_exporter": "python",
   "pygments_lexer": "ipython3",
   "version": "3.6.8"
  }
 },
 "nbformat": 4,
 "nbformat_minor": 2
}
